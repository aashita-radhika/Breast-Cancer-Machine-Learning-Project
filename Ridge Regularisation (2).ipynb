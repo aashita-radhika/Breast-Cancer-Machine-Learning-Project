{
 "cells": [
  {
   "cell_type": "code",
   "execution_count": 4,
   "id": "539377b4-78bb-46db-95a4-7d4ce91076c6",
   "metadata": {},
   "outputs": [],
   "source": [
    "import numpy as np\n",
    "import pandas as pd\n",
    "import matplotlib.pyplot as plt\n",
    "from sklearn.model_selection import train_test_split\n",
    "from sklearn.linear_model import Ridge\n",
    "from sklearn.linear_model import Lasso\n",
    "from sklearn.metrics import r2_score, mean_squared_error"
   ]
  },
  {
   "cell_type": "code",
   "execution_count": 5,
   "id": "5fc74c4f-daf0-449a-a1c8-afb17a26678e",
   "metadata": {},
   "outputs": [],
   "source": [
    "# Read the data from 'BreastCancerData.csv' into a pandas DataFrame\n",
    "df = pd.read_csv('NewData.csv')"
   ]
  },
  {
   "cell_type": "code",
   "execution_count": 8,
   "id": "8ffaffa2-9f2d-4ee5-8ba1-7c2d57436423",
   "metadata": {},
   "outputs": [],
   "source": [
    "# Extract all columns except the first one and store them in X as a NumPy array\n",
    "X = df.iloc[:, 1:].values\n",
    "\n",
    "# Extract the first column and store it in y as a NumPy array\n",
    "y = df.iloc[:, 0].values\n"
   ]
  },
  {
   "cell_type": "code",
   "execution_count": 10,
   "id": "e1d5102b-6bb2-463d-b2d3-06703f5bc34b",
   "metadata": {},
   "outputs": [],
   "source": [
    "# we split the data into training and testing data \n",
    "X_train, X_test, y_train, y_test = train_test_split(X, y, test_size = 0.2, random_state = 2)"
   ]
  },
  {
   "cell_type": "code",
   "execution_count": 12,
   "id": "fe8cb430-e2cf-41c2-8c36-35d8d948dbb0",
   "metadata": {},
   "outputs": [],
   "source": [
    "# Applying ridge regression(using inbuilt class)\n",
    "\n",
    "# Creating a Ridge Regression model\n",
    "model1 = Ridge(alpha = 0.02)\n",
    "\n",
    "# Fitting training data into the model\n",
    "model1.fit(X_train,y_train)\n",
    "\n",
    "# Predicting target values for testing data\n",
    "y_pred1 = model1.predict(X_test)"
   ]
  },
  {
   "cell_type": "code",
   "execution_count": 36,
   "id": "37ae35af-9d1e-4733-a294-e098b346f875",
   "metadata": {},
   "outputs": [
    {
     "data": {
      "text/plain": [
       "72.90662836594721"
      ]
     },
     "execution_count": 36,
     "metadata": {},
     "output_type": "execute_result"
    }
   ],
   "source": [
    "# r2 score of inbuilt model\n",
    "r2_score(y_test,y_pred1)*100"
   ]
  },
  {
   "cell_type": "code",
   "execution_count": 16,
   "id": "97426d6f-034f-41a7-9ec7-461cc99d8221",
   "metadata": {},
   "outputs": [
    {
     "name": "stdout",
     "output_type": "stream",
     "text": [
      "[-9.95041884e-02  1.01494057e-02 -5.54337905e-03  8.95426086e-04\n",
      "  2.90983568e-01 -3.41130945e+00  1.86807023e+00  1.88497450e+00\n",
      "  3.46945903e-01 -6.17286685e-02  2.38911113e-01  5.37410856e-02\n",
      " -4.47318889e-04 -9.42185633e-04  1.11733138e+00  4.69806070e-01\n",
      " -1.77306569e+00  9.96957641e-01  9.43236016e-01  2.18275340e-01\n",
      "  2.34246283e-01  2.66802586e-05 -3.29170801e-04 -1.36302155e-03\n",
      "  2.08385809e+00  3.70867514e-01  1.13895741e-01  7.04920378e-01\n",
      "  3.85330942e-01  9.25479606e-01]\n",
      "-1.8478075621915648\n"
     ]
    }
   ],
   "source": [
    "print(model1.coef_)\n",
    "print(model1.intercept_)"
   ]
  },
  {
   "cell_type": "code",
   "execution_count": 18,
   "id": "c793b9cd-1ba3-4e8c-b835-0e79cc645be8",
   "metadata": {},
   "outputs": [],
   "source": [
    "# Creating ridge class\n",
    "class RidgeReg:\n",
    "    def __init__(self,alpha=0.1):\n",
    "        self.alpha = alpha\n",
    "        self.coef_ = None\n",
    "        self.intercept_ = None\n",
    "    def fit(self, X_train, y_train):\n",
    "        # Insert a column of ones for the intercept term\n",
    "        X_train = np.insert(X_train, 0, 1, axis=1)\n",
    "        \n",
    "        # Identity matrix with zero for the intercept term\n",
    "        I = np.identity(X_train.shape[1])\n",
    "        I[0, 0] = 0  # No regularization for the intercept term\n",
    "        \n",
    "        # Ridge regression closed-form solution\n",
    "        result = np.linalg.inv(X_train.T.dot(X_train) + self.alpha * I).dot(X_train.T).dot(y_train)\n",
    "        self.intercept_ = result[0]\n",
    "        self.coef_ = result[1:]\n",
    "\n",
    "    def predict(self, X_test):\n",
    "        # Insert a column of ones for the intercept term\n",
    "        X_test = np.insert(X_test, 0, 1, axis=1)\n",
    "        return np.dot(X_test, np.insert(self.coef_, 0, self.intercept_))"
   ]
  },
  {
   "cell_type": "code",
   "execution_count": 20,
   "id": "f54d71e4-9b30-4ef5-b959-fdb5c3f92a42",
   "metadata": {},
   "outputs": [],
   "source": [
    "# Applying ridge regression(using self-made class)\n",
    "\n",
    "# Creating a Ridge Regression model\n",
    "model2 = Ridge(alpha = 0.02)\n",
    "\n",
    "# Fitting training data into the model\n",
    "model2.fit(X_train,y_train)\n",
    "\n",
    "# Predicting target values for testing data\n",
    "y_pred2 = model2.predict(X_test)"
   ]
  },
  {
   "cell_type": "code",
   "execution_count": 38,
   "id": "20d7ae19-3caa-4a8f-8540-0262b5c8d71c",
   "metadata": {},
   "outputs": [
    {
     "data": {
      "text/plain": [
       "72.90662836594721"
      ]
     },
     "execution_count": 38,
     "metadata": {},
     "output_type": "execute_result"
    }
   ],
   "source": [
    "# r2 score of self-made model\n",
    "r2_score(y_test,y_pred2)*100"
   ]
  },
  {
   "cell_type": "code",
   "execution_count": 24,
   "id": "b350e62a-69c5-409b-a7d1-278a45ac4508",
   "metadata": {},
   "outputs": [],
   "source": [
    "# We can see both models are giving similar answers"
   ]
  },
  {
   "cell_type": "code",
   "execution_count": 42,
   "id": "c7d52b2c-1c9f-4df0-8c08-3215c9f1fc36",
   "metadata": {},
   "outputs": [
    {
     "data": {
      "text/plain": [
       "68.81173009516921"
      ]
     },
     "execution_count": 42,
     "metadata": {},
     "output_type": "execute_result"
    }
   ],
   "source": [
    "# Applying ridge regression(with inbuilt SGDRegressor in Ridge Regression)\n",
    "model3 = Ridge(alpha = 0.001, max_iter = 1000, solver = 'sparse_cg')\n",
    "\n",
    "# Training data\n",
    "model3.fit(X_train,y_train)\n",
    "\n",
    "# Predicting target values for testing data\n",
    "y_pred3 = model3.predict(X_test)\n",
    "\n",
    "#Calculating accuracy score\n",
    "r2_score(y_test,y_pred3)*100\n"
   ]
  },
  {
   "cell_type": "code",
   "execution_count": 44,
   "id": "994109fc-1ad4-433f-ae2d-fe9b436d4157",
   "metadata": {},
   "outputs": [
    {
     "name": "stdout",
     "output_type": "stream",
     "text": [
      "[-0.07279504 -0.01408125 -0.00601826  0.00065228  0.0138263   0.02243204\n",
      "  0.05067797  0.02392671  0.02011316  0.00438869  0.05912694  0.01779145\n",
      "  0.08176666 -0.00275348  0.00286934  0.00441119  0.01012221  0.00289725\n",
      "  0.00378675  0.00095812  0.25564416  0.02040786 -0.00311966 -0.0011924\n",
      "  0.02719217  0.07791756  0.14145984  0.04132657  0.04412699  0.01420217]\n",
      "-1.762897129597659\n"
     ]
    }
   ],
   "source": [
    "# Coefficient and intercept of (inbuilt model)\n",
    "print(model3.coef_)\n",
    "print(model3.intercept_)"
   ]
  },
  {
   "cell_type": "code",
   "execution_count": 46,
   "id": "c93fa9a4-8620-47ad-bb38-d94875557b41",
   "metadata": {},
   "outputs": [
    {
     "name": "stderr",
     "output_type": "stream",
     "text": [
      "C:\\Users\\paiak\\anaconda3\\Lib\\site-packages\\sklearn\\linear_model\\_coordinate_descent.py:631: ConvergenceWarning: Objective did not converge. You might want to increase the number of iterations, check the scale of the features or consider increasing regularisation. Duality gap: 1.264e+01, tolerance: 1.057e-02\n",
      "  model = cd_fast.enet_coordinate_descent(\n"
     ]
    },
    {
     "data": {
      "text/plain": [
       "72.79958615003808"
      ]
     },
     "execution_count": 46,
     "metadata": {},
     "output_type": "execute_result"
    }
   ],
   "source": [
    "# Lasso Regression\n",
    "model4 = Lasso(alpha=0.0001)\n",
    "\n",
    "# Training data\n",
    "model4.fit(X_train,y_train)\n",
    "\n",
    "# Predicting target values for testing data\n",
    "y_pred4 = model4.predict(X_test)\n",
    "\n",
    "#Calculating accuracy score\n",
    "r2_score(y_test,y_pred4)*100\n"
   ]
  }
 ],
 "metadata": {
  "kernelspec": {
   "display_name": "Python 3 (ipykernel)",
   "language": "python",
   "name": "python3"
  },
  "language_info": {
   "codemirror_mode": {
    "name": "ipython",
    "version": 3
   },
   "file_extension": ".py",
   "mimetype": "text/x-python",
   "name": "python",
   "nbconvert_exporter": "python",
   "pygments_lexer": "ipython3",
   "version": "3.11.7"
  }
 },
 "nbformat": 4,
 "nbformat_minor": 5
}
